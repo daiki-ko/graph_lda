{
 "cells": [
  {
   "cell_type": "code",
   "execution_count": null,
   "id": "e2a542da-dffa-40b3-a799-5478cdd25189",
   "metadata": {},
   "outputs": [],
   "source": [
    "import os\n",
    "import sys\n",
    "import pprint\n",
    "\n",
    "root = '/'\n",
    "\n",
    "import_path = root + 'pigvae_all'\n",
    "sys.path.append(import_path)\n",
    "pprint.pprint(sys.path)"
   ]
  },
  {
   "cell_type": "code",
   "execution_count": null,
   "id": "cc84cb4b-768f-4232-9a56-b07c86f58f2b",
   "metadata": {},
   "outputs": [],
   "source": []
  },
  {
   "cell_type": "code",
   "execution_count": null,
   "id": "8c82406e-ebd7-4ef2-8f5a-a3a8766832ac",
   "metadata": {},
   "outputs": [],
   "source": [
    "import pickle\n",
    "    \n",
    "with open(root + \"MolData/QM9/qm9_mols.pickle\", \"rb\") as f1:\n",
    "    qm9_mols = pickle.load(f1)\n",
    "\n",
    "with open(root + \"MolData/QM9/shuffle_indices.pickle\", \"rb\") as f2:\n",
    "    shuffle_indices = pickle.load(f2)"
   ]
  },
  {
   "cell_type": "code",
   "execution_count": null,
   "id": "77d97c7b-292f-4fc2-8245-36c7c21b6102",
   "metadata": {},
   "outputs": [],
   "source": [
    "import pandas as pd\n",
    "\n",
    "#mol_table = pd.read_csv(\"smiles_feature.csv\")\n",
    "mol_table = pd.read_csv(root + \"MolData/QM9/qm9_props.csv\")"
   ]
  },
  {
   "cell_type": "code",
   "execution_count": null,
   "id": "8bfd98e5-4cc4-47cf-a988-f629bd95af2d",
   "metadata": {},
   "outputs": [],
   "source": [
    "c_indices = ['mu', 'alpha', 'homo', 'lumo', 'r2', 'zpve', 'u0','cv']"
   ]
  },
  {
   "cell_type": "code",
   "execution_count": null,
   "id": "f92e4e2a-03b3-4e36-bf91-7c07878070a5",
   "metadata": {
    "jupyter": {
     "source_hidden": true
    }
   },
   "outputs": [],
   "source": [
    "#c_indices = mol_table.columns[5:13]\n",
    "\n",
    "import matplotlib.pyplot as plt\n",
    "\n",
    "target_df = mol_table[c_indices]\n",
    "targets_array = target_df.values\n",
    "\n",
    "print(targets_array.shape, c_indices)"
   ]
  },
  {
   "cell_type": "code",
   "execution_count": null,
   "id": "e02e75f8-8462-47c7-b2cf-30b427b8a820",
   "metadata": {},
   "outputs": [],
   "source": []
  },
  {
   "cell_type": "code",
   "execution_count": null,
   "id": "f5b24c1a-5f14-4fd5-a14f-48d07a7f9253",
   "metadata": {},
   "outputs": [],
   "source": [
    "import numpy as np\n",
    "from rdkit import Chem\n",
    "\n",
    "all_mols = []\n",
    "atom_Ns = []\n",
    "prop_list = []\n",
    "atom_symbols_list = []\n",
    "\n",
    "for id, (mol, t) in enumerate(zip(np.array(qm9_mols)[shuffle_indices],np.array(targets_array)[shuffle_indices])):\n",
    "\n",
    "\n",
    "    if mol is not None:\n",
    "        print(id, t)\n",
    "\n",
    "        \n",
    "        all_mols.append(mol)\n",
    "        atom_Ns.append(mol.GetNumAtoms())\n",
    "        prop_list.append(t)\n",
    "        \n",
    "        for atom in mol.GetAtoms():\n",
    "            atom_symbols_list.append(atom.GetSymbol())"
   ]
  },
  {
   "cell_type": "code",
   "execution_count": null,
   "id": "a4a64aa3-2264-4d8f-9ff7-0789fccb6edf",
   "metadata": {},
   "outputs": [],
   "source": []
  },
  {
   "cell_type": "code",
   "execution_count": null,
   "id": "04f3f01e-ee3c-4aaa-af7e-f48cc900d90a",
   "metadata": {},
   "outputs": [],
   "source": [
    "import numpy as np\n",
    "\n",
    "max_num_nodes = max(atom_Ns)\n",
    "max_num_nodes"
   ]
  },
  {
   "cell_type": "code",
   "execution_count": null,
   "id": "a45fbb6b-82f7-42e1-9487-1de4c3425cd6",
   "metadata": {},
   "outputs": [],
   "source": [
    "import torch\n",
    "\n",
    "all_targets = torch.from_numpy(np.array(prop_list).astype(np.float32)).clone()"
   ]
  },
  {
   "cell_type": "code",
   "execution_count": null,
   "id": "f1118d1c-03ba-451d-9f02-4b5e82fe9076",
   "metadata": {},
   "outputs": [],
   "source": [
    "from mol2graph_qm9 import mol2vec\n",
    "\n",
    "num_node_f = 36\n",
    "num_edge_f = 6"
   ]
  },
  {
   "cell_type": "code",
   "execution_count": null,
   "id": "29ce81d1-7cf2-4454-9f80-c19b0185829d",
   "metadata": {},
   "outputs": [],
   "source": [
    "import numpy as np\n",
    "import torch\n",
    "from torch.utils.data import Dataset\n",
    "from torch.utils.data.distributed import DistributedSampler\n",
    "import random\n",
    "from torch_geometric.data import Data\n",
    "from torch_geometric.utils import from_networkx\n",
    "import networkx as nx\n",
    "from networkx.algorithms.shortest_paths.dense import floyd_warshall_numpy\n",
    "\n",
    "from networkx.generators.random_graphs import *\n",
    "from networkx.generators.ego import ego_graph\n",
    "from networkx.generators.geometric import random_geometric_graph\n",
    "\n",
    "node_features = []\n",
    "edge_features = []\n",
    "mask = []\n",
    "props = []\n",
    "\n",
    "for id, mol in enumerate(all_mols):\n",
    "\n",
    "    mol_graph = mol2vec(mol)\n",
    "    atoms = mol.GetAtoms()\n",
    "    bonds = mol.GetBonds()\n",
    "\n",
    "    atoms_list = np.arange(len(atoms))\n",
    "    bonds_list = []\n",
    "\n",
    "    for bond in bonds:\n",
    "        begin_atom, end_atom = bond.GetBeginAtomIdx(), bond.GetEndAtomIdx()\n",
    "        bonds_list.append((begin_atom, end_atom))\n",
    "\n",
    "    mg = nx.Graph()\n",
    "    mg.add_nodes_from(atoms_list)\n",
    "    mg.add_edges_from(bonds_list)\n",
    "\n",
    "    num_edges = mg.number_of_edges()\n",
    "    num_nodes = mg.number_of_nodes()\n",
    "    num_nodes_init = mg.number_of_nodes()\n",
    "\n",
    "    props.append(torch.Tensor([num_nodes]))\n",
    "    nf = torch.zeros(max_num_nodes, num_node_f)\n",
    "    node_f = nf.unsqueeze(0)\n",
    "\n",
    "    \n",
    "    dm = torch.zeros((max_num_nodes, max_num_nodes, 1 + num_edge_f + 1)).float()\n",
    "    conf = mol.GetConformer()\n",
    "    \n",
    "    for i in range(num_nodes):\n",
    "        for j in range(num_nodes):\n",
    "            pos_i = conf.GetAtomPosition(i)\n",
    "            pos_j = conf.GetAtomPosition(j)\n",
    "            p = np.array([pos_i.x, pos_i.y, pos_i.z])\n",
    "            q = np.array([pos_j.x, pos_j.y, pos_j.z])\n",
    "            dist = np.linalg.norm(p - q)\n",
    "            dm[i,j, 0] = dist\n",
    "            \n",
    "    dm[:,:, 1] = 1.0\n",
    "\n",
    "    i_list = list(range(0, len(mol_graph.edge_index[0]), 2))\n",
    "    j_list = list(range(1, len(mol_graph.edge_index[0]), 2))\n",
    "        \n",
    "    for idx, (i, j) in enumerate(zip(mol_graph.edge_index[0][i_list], mol_graph.edge_index[0][j_list])):\n",
    "        dm[i,j,2:2+num_edge_f] = mol_graph.edge_attr[idx]\n",
    "        dm[j,i,2:2+num_edge_f] = mol_graph.edge_attr[idx]\n",
    "        dm[i,j,1] = 0.0\n",
    "        dm[j,i,1] = 0.0\n",
    "\n",
    "    for idx, node_x in enumerate(mol_graph.x):\n",
    "        node_f[0][idx] = node_x\n",
    "\n",
    "    edge_features.append(dm)\n",
    "    mask.append((torch.arange(max_num_nodes) < num_nodes_init).unsqueeze(0))\n",
    "    node_features.append(node_f)\n",
    "    \n",
    "    if id % 1000 == 0:\n",
    "        print(id, num_nodes_init, max_num_nodes)"
   ]
  },
  {
   "cell_type": "code",
   "execution_count": null,
   "id": "353bc72c-7009-40a4-9799-25efd78a8f1d",
   "metadata": {},
   "outputs": [],
   "source": [
    "node_features = torch.cat(node_features, dim=0)\n",
    "edge_features = torch.stack(edge_features, dim=0)\n",
    "mask = torch.cat(mask, dim=0)\n",
    "props = torch.cat(props, dim=0)"
   ]
  },
  {
   "cell_type": "code",
   "execution_count": null,
   "id": "d059f979-07b2-4879-8cb9-5c6eec3a4026",
   "metadata": {},
   "outputs": [],
   "source": [
    "data_dict = {\n",
    "    'node_features': node_features,\n",
    "    'edge_features': edge_features,\n",
    "    'mask': mask,\n",
    "    'props': props\n",
    "}\n",
    "\n",
    "save_dir = root + \"dataset/train_dataset/\"\n",
    "\n",
    "# save\n",
    "save_path = save_dir + 'qm9_e3data/tensor_data.pkl'\n",
    "torch.save(data_dict, save_path)"
   ]
  }
 ],
 "metadata": {
  "kernelspec": {
   "display_name": "Python 3 (ipykernel)",
   "language": "python",
   "name": "python3"
  },
  "language_info": {
   "codemirror_mode": {
    "name": "ipython",
    "version": 3
   },
   "file_extension": ".py",
   "mimetype": "text/x-python",
   "name": "python",
   "nbconvert_exporter": "python",
   "pygments_lexer": "ipython3",
   "version": "3.10.14"
  }
 },
 "nbformat": 4,
 "nbformat_minor": 5
}
