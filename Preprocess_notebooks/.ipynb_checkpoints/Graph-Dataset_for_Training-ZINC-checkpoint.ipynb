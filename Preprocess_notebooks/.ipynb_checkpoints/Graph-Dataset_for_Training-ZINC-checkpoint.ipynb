{
 "cells": [
  {
   "cell_type": "code",
   "execution_count": null,
   "id": "26f05079-1556-4eab-b770-d38ea792998b",
   "metadata": {},
   "outputs": [],
   "source": [
    "import os\n",
    "import sys\n",
    "import pprint\n",
    "\n",
    "root = '/'\n",
    "\n",
    "import_path = root + 'pigvae_all'\n",
    "sys.path.append(import_path)\n",
    "pprint.pprint(sys.path)"
   ]
  },
  {
   "cell_type": "code",
   "execution_count": null,
   "id": "34c9e056-7c4f-4e85-84f6-eeba1811d93a",
   "metadata": {},
   "outputs": [],
   "source": [
    "import numpy as np\n",
    "import pandas as pd\n",
    "\n",
    "data_dir = root + 'MolData/ZINC/'\n",
    "data_path = data_dir + \"zinc15_250K_2D.csv\"\n",
    "\n",
    "indices_list = np.load(data_dir + \"sample_indices_75k.npy\").tolist()\n",
    "zinc_df = pd.read_csv(data_path)"
   ]
  },
  {
   "cell_type": "code",
   "execution_count": null,
   "id": "581c6bf3-ba41-4f3d-aedb-a208a23b84da",
   "metadata": {},
   "outputs": [],
   "source": []
  },
  {
   "cell_type": "code",
   "execution_count": null,
   "id": "f973f00e-b596-4fa3-9840-d449c300f389",
   "metadata": {},
   "outputs": [],
   "source": [
    "df_extracted = zinc_df.loc[indices_list]"
   ]
  },
  {
   "cell_type": "code",
   "execution_count": null,
   "id": "88046f49-42c1-479d-929a-db7c4746952b",
   "metadata": {},
   "outputs": [],
   "source": [
    "zinc_smiles = df_extracted[\"smiles\"].tolist()"
   ]
  },
  {
   "cell_type": "code",
   "execution_count": null,
   "id": "7d782ba3-1ddd-4a6d-957d-db0f2573fae6",
   "metadata": {},
   "outputs": [],
   "source": [
    "smiles_list = []\n",
    "\n",
    "#for data in datalist:\n",
    "for data in zinc_smiles:\n",
    "    smi = data.rstrip('\\n')\n",
    "    smiles_list.append(smi)"
   ]
  },
  {
   "cell_type": "code",
   "execution_count": null,
   "id": "f5cb7e47-e398-46df-b918-c38962024eab",
   "metadata": {},
   "outputs": [],
   "source": [
    "from rdkit import Chem\n",
    "\n",
    "all_mols = []\n",
    "atom_Ns = []\n",
    "\n",
    "for id, smi in enumerate(smiles_list):\n",
    "\n",
    "    mol = Chem.MolFromSmiles(smi)\n",
    "\n",
    "    if mol is not None:\n",
    "        print(id)\n",
    "        all_mols.append(mol)\n",
    "        atom_Ns.append(mol.GetNumAtoms())"
   ]
  },
  {
   "cell_type": "code",
   "execution_count": null,
   "id": "513a410d-4f15-43db-b2b5-e5bb9ee4473a",
   "metadata": {},
   "outputs": [],
   "source": [
    "atom_symbols_list = []\n",
    "\n",
    "for id, mol in enumerate(all_mols):\n",
    "    \n",
    "    print(id)\n",
    "    \n",
    "    for atom in mol.GetAtoms():\n",
    "        #print(atom.GetSymbol(), atom.GetAtomicNum())\n",
    "        atom_symbols_list.append(atom.GetSymbol())"
   ]
  },
  {
   "cell_type": "code",
   "execution_count": null,
   "id": "ba405389-65ac-4a8d-b333-c83793d23452",
   "metadata": {},
   "outputs": [],
   "source": [
    "list(set(atom_symbols_list))"
   ]
  },
  {
   "cell_type": "code",
   "execution_count": null,
   "id": "67d0b667-bdb9-4626-a8fd-0b66af26d1ff",
   "metadata": {},
   "outputs": [],
   "source": [
    "import numpy as np\n",
    "\n",
    "max_num_nodes = max(atom_Ns)\n",
    "max_num_nodes"
   ]
  },
  {
   "cell_type": "code",
   "execution_count": null,
   "id": "2aebb618-fa44-4a47-9877-74a0c211c22d",
   "metadata": {},
   "outputs": [],
   "source": [
    "len(atom_Ns), len(all_mols)"
   ]
  },
  {
   "cell_type": "code",
   "execution_count": null,
   "id": "7ac2c1d8-c0ee-4056-aa22-facd126043a4",
   "metadata": {},
   "outputs": [],
   "source": [
    "from mol2graph import mol2vec\n",
    "\n",
    "node_features = []\n",
    "edge_features = []\n",
    "mask = []\n",
    "props = []\n",
    "\n",
    "mol_graphs = []\n",
    "\n",
    "for mol in all_mols:\n",
    "    mol_graphs.append(mol2vec(mol))"
   ]
  },
  {
   "cell_type": "code",
   "execution_count": null,
   "id": "b52f628f-ae37-4a63-90ba-a6f653ef64b8",
   "metadata": {},
   "outputs": [],
   "source": [
    "num_node_f = mol_graphs[0].x.shape[1]\n",
    "num_edge_f = mol_graphs[0].edge_attr.shape[1]"
   ]
  },
  {
   "cell_type": "code",
   "execution_count": null,
   "id": "2732f7ea-6082-4c1c-b6c3-936e235ab76c",
   "metadata": {},
   "outputs": [],
   "source": [
    "num_node_f, num_edge_f"
   ]
  },
  {
   "cell_type": "code",
   "execution_count": null,
   "id": "2d79ac52-ce19-4dad-abdb-1b84828145ca",
   "metadata": {},
   "outputs": [],
   "source": [
    "import numpy as np\n",
    "import torch\n",
    "from torch.utils.data import Dataset\n",
    "from torch.utils.data.distributed import DistributedSampler\n",
    "import random\n",
    "import pytorch_lightning as pl\n",
    "from torch_geometric.data import Data\n",
    "from torch_geometric.utils import from_networkx\n",
    "import networkx as nx\n",
    "from networkx.algorithms.shortest_paths.dense import floyd_warshall_numpy\n",
    "\n",
    "from networkx.generators.random_graphs import *\n",
    "from networkx.generators.ego import ego_graph\n",
    "from networkx.generators.geometric import random_geometric_graph"
   ]
  },
  {
   "cell_type": "code",
   "execution_count": null,
   "id": "b9dfa5ab-0566-47ee-8a73-c92b289e169a",
   "metadata": {},
   "outputs": [],
   "source": [
    "from mol2graph import mol2vec\n",
    "\n",
    "node_features = []\n",
    "edge_features = []\n",
    "mask = []\n",
    "props = []\n",
    "\n",
    "for id, mol in enumerate(all_mols):\n",
    "\n",
    "    mol_graph = mol2vec(mol)\n",
    "    atoms = mol.GetAtoms()\n",
    "    bonds = mol.GetBonds()\n",
    "\n",
    "    atoms_list = np.arange(len(atoms))\n",
    "    bonds_list = []\n",
    "\n",
    "    for bond in bonds:\n",
    "\n",
    "        begin_atom, end_atom = bond.GetBeginAtomIdx(), bond.GetEndAtomIdx()\n",
    "        bonds_list.append((begin_atom, end_atom))\n",
    "\n",
    "    mg = nx.Graph()\n",
    "    mg.add_nodes_from(atoms_list)\n",
    "    mg.add_edges_from(bonds_list)\n",
    "\n",
    "    num_edges = mg.number_of_edges()\n",
    "    num_nodes = mg.number_of_nodes()\n",
    "    num_nodes_init = mg.number_of_nodes()\n",
    "\n",
    "    props.append(torch.Tensor([num_nodes]))\n",
    "    mg.add_nodes_from([i for i in range(num_nodes, max_num_nodes)])\n",
    "    nf = torch.zeros(max_num_nodes, num_node_f)\n",
    "    node_f = nf.unsqueeze(0)\n",
    "\n",
    "    dm = torch.from_numpy(floyd_warshall_numpy(mg)).long()\n",
    "    dm = torch.clamp(dm, 0, 5).unsqueeze(-1)\n",
    "    num_nodes = dm.size(1)\n",
    "    dm = torch.zeros((num_nodes, num_nodes, 6 + num_edge_f + 1)).type_as(dm).scatter_(2, dm, 1).float()\n",
    "    dm[:,:, 6] = 1.0\n",
    "\n",
    "    i_list = list(range(0, len(mol_graph.edge_index[0]), 2))\n",
    "    j_list = list(range(1, len(mol_graph.edge_index[0]), 2))\n",
    "        \n",
    "    for idx, (i, j) in enumerate(zip(mol_graph.edge_index[0][i_list], mol_graph.edge_index[0][j_list])):\n",
    "        dm[i,j,7:7+num_edge_f] = mol_graph.edge_attr[idx]\n",
    "        dm[j,i,7:7+num_edge_f] = mol_graph.edge_attr[idx]\n",
    "        dm[i,j,6] = 0.0\n",
    "        dm[j,i,6] = 0.0\n",
    "\n",
    "    for idx, node_x in enumerate(mol_graph.x):\n",
    "        node_f[0][idx] = node_x\n",
    "\n",
    "    edge_features.append(dm)\n",
    "    mask.append((torch.arange(max_num_nodes) < num_nodes_init).unsqueeze(0))\n",
    "    node_features.append(node_f)\n",
    "    \n",
    "    print(id, num_nodes_init, max_num_nodes)"
   ]
  },
  {
   "cell_type": "code",
   "execution_count": null,
   "id": "1337be6b-b818-4cfe-8cf9-38aca4ce812a",
   "metadata": {},
   "outputs": [],
   "source": [
    "node_features = torch.cat(node_features, dim=0)\n",
    "edge_features = torch.stack(edge_features, dim=0)\n",
    "mask = torch.cat(mask, dim=0)\n",
    "props = torch.cat(props, dim=0)"
   ]
  },
  {
   "cell_type": "code",
   "execution_count": null,
   "id": "b9e4f929-373c-4b2f-b38e-f36c89435b5a",
   "metadata": {},
   "outputs": [],
   "source": [
    "data_dict = {\n",
    "    'node_features': node_features,\n",
    "    'edge_features': edge_features,\n",
    "    'mask': mask,\n",
    "    'props': props\n",
    "}\n",
    "\n",
    "save_dir = root + \"dataset/train_dataset/\"\n",
    "\n",
    "# save\n",
    "save_path = save_dir + 'zinc_gdata/tensor_data.pkl'\n",
    "torch.save(data_dict, save_path)"
   ]
  },
  {
   "cell_type": "code",
   "execution_count": null,
   "id": "4444880d-7b4f-480d-bbae-bba2554bc39f",
   "metadata": {},
   "outputs": [],
   "source": []
  }
 ],
 "metadata": {
  "kernelspec": {
   "display_name": "Python 3 (ipykernel)",
   "language": "python",
   "name": "python3"
  },
  "language_info": {
   "codemirror_mode": {
    "name": "ipython",
    "version": 3
   },
   "file_extension": ".py",
   "mimetype": "text/x-python",
   "name": "python",
   "nbconvert_exporter": "python",
   "pygments_lexer": "ipython3",
   "version": "3.10.14"
  }
 },
 "nbformat": 4,
 "nbformat_minor": 5
}
